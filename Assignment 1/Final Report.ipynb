{
 "cells": [
  {
   "cell_type": "markdown",
   "id": "ba7e55bf",
   "metadata": {},
   "source": [
    "## Assignment 1: Evolutionary process discovery\n",
    "\n",
    "This assignment is about descovering a PN Matrix from the logged activities of a company, in the dataset_a1.txt"
   ]
  },
  {
   "cell_type": "code",
   "execution_count": 9,
   "id": "936677d1",
   "metadata": {},
   "outputs": [],
   "source": [
    "import random\n",
    "import time\n",
    "import matplotlib.pyplot as plt\n",
    "import pandas as pd\n",
    "from deap import base, creator, tools, algorithms\n",
    "from fitness_module import fitness"
   ]
  },
  {
   "cell_type": "code",
   "execution_count": null,
   "id": "7c669c11",
   "metadata": {},
   "outputs": [
    {
     "name": "stderr",
     "output_type": "stream",
     "text": [
      "/Users/sadra/miniconda3/envs/1BM120/lib/python3.13/site-packages/deap/creator.py:185: RuntimeWarning: A class named 'FitnessMax' has already been created and it will be overwritten. Consider deleting previous creation of that class or rename it.\n",
      "  warnings.warn(\"A class named '{0}' has already been created and it \"\n",
      "/Users/sadra/miniconda3/envs/1BM120/lib/python3.13/site-packages/deap/creator.py:185: RuntimeWarning: A class named 'Individual' has already been created and it will be overwritten. Consider deleting previous creation of that class or rename it.\n",
      "  warnings.warn(\"A class named '{0}' has already been created and it \"\n"
     ]
    },
    {
     "name": "stdout",
     "output_type": "stream",
     "text": [
      "gen\tnevals\tmax                              \tavg    \n",
      "0  \t100   \t(np.float64(-3.653242923742924),)\t-9.6996\n",
      "1  \t66    \t(np.float64(-3.6872034632034634),)\t-7.96702\n",
      "2  \t66    \t(np.float64(-1.716808968808969),) \t-6.18883\n",
      "3  \t72    \t(np.float64(-0.6811148573648576),)\t-5.17976\n",
      "4  \t67    \t(np.float64(0.3188851426351424),) \t-3.97253\n",
      "5  \t59    \t(np.float64(0.31038455988455954),)\t-2.94805\n",
      "6  \t67    \t(np.float64(0.31038455988455954),)\t-2.24548\n",
      "7  \t66    \t(np.float64(0.31038455988455954),)\t-1.79574\n",
      "8  \t72    \t(np.float64(0.35013203463203424),)\t-1.05506\n",
      "9  \t66    \t(np.float64(0.35013203463203424),)\t-0.810527\n",
      "10 \t72    \t(np.float64(0.5076764346764346),) \t-0.478707\n",
      "11 \t64    \t(np.float64(0.5076764346764346),) \t-0.418988\n",
      "12 \t67    \t(np.float64(0.5076764346764346),) \t-0.504625\n",
      "13 \t71    \t(np.float64(0.5076764346764346),) \t-0.629376\n",
      "14 \t69    \t(np.float64(0.5076764346764346),) \t-0.565856\n",
      "15 \t74    \t(np.float64(0.5076764346764346),) \t-0.371384\n",
      "16 \t54    \t(np.float64(0.5076764346764346),) \t-0.684741\n",
      "17 \t69    \t(np.float64(0.5076764346764346),) \t-0.262366\n",
      "18 \t81    \t(np.float64(0.5085173437673436),) \t-0.243459\n",
      "19 \t76    \t(np.float64(0.5085173437673436),) \t-0.261836\n"
     ]
    }
   ],
   "source": [
    "# EXERCISE 1: Genetic Algorithm with DEAP\n",
    "\n",
    "# constants\n",
    "N_VARS = 24\n",
    "MIN_VAL = 0\n",
    "MAX_VAL = 8\n",
    "POP_SIZE = 100\n",
    "N_GEN = 80\n",
    "CXPB = 0.6\n",
    "MUTPB = 0.3\n",
    "\n",
    "# define deap framework (1.0,) means maximization\n",
    "creator.create(\"FitnessMax\", base.Fitness, weights=(1.0,))\n",
    "creator.create(\"Individual\", list, fitness=creator.FitnessMax)\n",
    "\n",
    "toolbox = base.Toolbox()\n",
    "\n",
    "toolbox.register(\"attr_int\", random.randint, MIN_VAL, MAX_VAL)\n",
    "toolbox.register(\"individual\", tools.initRepeat, creator.Individual, toolbox.attr_int, N_VARS)\n",
    "toolbox.register(\"population\", tools.initRepeat, list, toolbox.individual)\n",
    "\n",
    "toolbox.register(\"evaluate\", fitness)\n",
    "toolbox.register(\"mate\", tools.cxTwoPoint)\n",
    "toolbox.register(\"mutate\", tools.mutUniformInt, low=MIN_VAL, up=MAX_VAL, indpb=0.2)\n",
    "toolbox.register(\"select\", tools.selTournament, tournsize=3)\n",
    "\n",
    "# initialize population and hall of fame\n",
    "pop = toolbox.population(n=POP_SIZE)\n",
    "hof = tools.HallOfFame(1)\n",
    "\n",
    "\n",
    "stats = tools.Statistics(lambda ind: ind.fitness.values)\n",
    "stats.register(\"max\", max)\n",
    "stats.register(\"avg\", lambda fits: sum(f[0] for f in fits) / len(fits))\n",
    "\n",
    "pop, logbook = algorithms.eaSimple(\n",
    "    pop, toolbox,\n",
    "    cxpb=CXPB, mutpb=MUTPB,\n",
    "    ngen=N_GEN,\n",
    "    stats=stats, halloffame=hof,\n",
    "    verbose=True\n",
    ")\n",
    "\n",
    "# plot results\n",
    "plt.plot(logbook.select(\"gen\"), logbook.select(\"max\"), label=\"best fitness\")\n",
    "plt.xlabel(\"generation\")\n",
    "plt.ylabel(\"fitness\")\n",
    "plt.title(\"fitness progress over generations\")\n",
    "plt.grid(True)\n",
    "plt.legend()\n",
    "plt.show()"
   ]
  },
  {
   "cell_type": "code",
   "execution_count": null,
   "id": "9d40ef7f",
   "metadata": {},
   "outputs": [
    {
     "name": "stdout",
     "output_type": "stream",
     "text": [
      "Best solution: [3, 8, 3, 1, 0, 1, 1, 8, 1, 3, 3, 5, 2, 5, 3, 6, 5, 7, 1, 5, 2, 5, 7, 8]\n",
      "Best fitness: 0.7026320346320347\n"
     ]
    }
   ],
   "source": [
    "print(\"Best solution:\", hof[0])\n",
    "print(\"Best fitness:\", hof[0].fitness.values[0])"
   ]
  },
  {
   "cell_type": "markdown",
   "id": "f16f7908",
   "metadata": {},
   "source": [
    "Exercise 1 solutions \n",
    "Best solution: [3, 8, 3, 1, 0, 1, 1, 8, 1, 3, 3, 5, 2, 5, 3, 6, 5, 7, 1, 5, 2, 5, 7, 8]\n",
    "Best fitness: 0.7026320346320347"
   ]
  },
  {
   "cell_type": "code",
   "execution_count": null,
   "id": "1363e1d2",
   "metadata": {},
   "outputs": [],
   "source": [
    "# EXERCISE 2: this function is used to run the genetic algorithm with different crossover, mutation and selection methods\n",
    "def run_ga(crossover, mutation, selection, label):\n",
    "    toolbox.unregister(\"mate\")\n",
    "    toolbox.unregister(\"mutate\")\n",
    "    toolbox.unregister(\"select\")\n",
    "\n",
    "    toolbox.register(\"mate\", crossover)\n",
    "    toolbox.register(\"mutate\", mutation, indpb=0.2)\n",
    "    \n",
    "    # here if the selection method is tournament, we set the tournsize to 3\n",
    "    # otherwise we don't pass any arguments to the selection method\n",
    "    if selection == tools.selTournament:\n",
    "        toolbox.register(\"select\", selection, tournsize=3)\n",
    "    else:\n",
    "        toolbox.register(\"select\", selection)\n",
    "\n",
    "    pop = toolbox.population(n=POP_SIZE)\n",
    "    hof = tools.HallOfFame(1)\n",
    "    \n",
    "    # we measure the fitness values using the fitness function in fitness module \n",
    "    stats = tools.Statistics(lambda ind: ind.fitness.values)\n",
    "    \n",
    "    # here we register the statistics we want to track which are the max and avg fitness values\n",
    "    stats.register(\"max\", max)\n",
    "    stats.register(\"avg\", lambda fits: sum(f[0] for f in fits) / len(fits))\n",
    "\n",
    "    # time is measured before and after the algorithm execution\n",
    "    start_time = time.time()\n",
    "    pop, log = algorithms.eaSimple(pop, toolbox, cxpb=CXPB, mutpb=MUTPB, ngen=N_GEN, stats=stats, halloffame=hof, verbose=False)\n",
    "    end_time = time.time()\n",
    "\n",
    "    # we extract the ABF (average best fitness) value and the time taken for the execution\n",
    "    abf = max(log.select(\"avg\"))\n",
    "    duration = end_time - start_time\n",
    "\n",
    "    print(f\"{label} - ABF: {abf:.2f}, Time: {duration:.2f}s\")\n",
    "    return abf, duration, log"
   ]
  },
  {
   "cell_type": "code",
   "execution_count": null,
   "id": "f16d9220",
   "metadata": {},
   "outputs": [],
   "source": [
    "# Crossover operators\n",
    "crossovers = {\n",
    "    \"cxTwoPoint\": tools.cxTwoPoint,\n",
    "    \"cxOrdered\": tools.cxOrdered,\n",
    "}\n",
    "\n",
    "# Mutation operators\n",
    "mutations = {\n",
    "    \"mutFlipBit\": tools.mutFlipBit,\n",
    "    \"mutShuffleIndexes\": tools.mutShuffleIndexes,\n",
    "}\n",
    "\n",
    "# Selection operators\n",
    "selections = {\n",
    "    \"selTournament\": tools.selTournament,\n",
    "    \"selRoulette\": tools.selRoulette,\n",
    "}\n",
    "\n",
    "# mutation probabilities\n",
    "mutation_probs = [0.2,0.4,0.6,0.8]\n",
    "\n",
    "# crossover probabilities\n",
    "crossover_probs = [0.2,0.4,0.6,0.8]\n"
   ]
  },
  {
   "cell_type": "markdown",
   "id": "554a8609",
   "metadata": {},
   "source": [
    "## Exercise 2"
   ]
  },
  {
   "cell_type": "code",
   "execution_count": 8,
   "id": "1c6cddf3",
   "metadata": {},
   "outputs": [
    {
     "name": "stdout",
     "output_type": "stream",
     "text": [
      "cxTwoPoint, mutFlipBit, selTournament - ABF: -0.45, Time: 142.83s\n",
      "cxTwoPoint, mutFlipBit, selRoulette - ABF: -0.48, Time: 89.22s\n",
      "cxTwoPoint, mutShuffleIndexes, selTournament - ABF: -0.37, Time: 110.45s\n"
     ]
    },
    {
     "ename": "KeyboardInterrupt",
     "evalue": "",
     "output_type": "error",
     "traceback": [
      "\u001b[31m---------------------------------------------------------------------------\u001b[39m",
      "\u001b[31mKeyboardInterrupt\u001b[39m                         Traceback (most recent call last)",
      "\u001b[36mCell\u001b[39m\u001b[36m \u001b[39m\u001b[32mIn[8]\u001b[39m\u001b[32m, line 7\u001b[39m\n\u001b[32m      5\u001b[39m         \u001b[38;5;28;01mfor\u001b[39;00m sel_name, sel \u001b[38;5;129;01min\u001b[39;00m selections.items():\n\u001b[32m      6\u001b[39m             label = \u001b[33mf\u001b[39m\u001b[33m\"\u001b[39m\u001b[38;5;132;01m{\u001b[39;00mcx_name\u001b[38;5;132;01m}\u001b[39;00m\u001b[33m, \u001b[39m\u001b[38;5;132;01m{\u001b[39;00mmut_name\u001b[38;5;132;01m}\u001b[39;00m\u001b[33m, \u001b[39m\u001b[38;5;132;01m{\u001b[39;00msel_name\u001b[38;5;132;01m}\u001b[39;00m\u001b[33m\"\u001b[39m\n\u001b[32m----> \u001b[39m\u001b[32m7\u001b[39m             abf, time_taken, log = \u001b[43mrun_ga\u001b[49m\u001b[43m(\u001b[49m\u001b[43mcx\u001b[49m\u001b[43m,\u001b[49m\u001b[43m \u001b[49m\u001b[43mmut\u001b[49m\u001b[43m,\u001b[49m\u001b[43m \u001b[49m\u001b[43msel\u001b[49m\u001b[43m,\u001b[49m\u001b[43m \u001b[49m\u001b[43mlabel\u001b[49m\u001b[43m)\u001b[49m\n\u001b[32m      8\u001b[39m             results.append({\n\u001b[32m      9\u001b[39m                 \u001b[33m\"\u001b[39m\u001b[33mCrossover\u001b[39m\u001b[33m\"\u001b[39m: cx_name,\n\u001b[32m     10\u001b[39m                 \u001b[33m\"\u001b[39m\u001b[33mMutation\u001b[39m\u001b[33m\"\u001b[39m: mut_name,\n\u001b[32m   (...)\u001b[39m\u001b[32m     13\u001b[39m                 \u001b[33m\"\u001b[39m\u001b[33mTime (Seconds)\u001b[39m\u001b[33m\"\u001b[39m: time_taken\n\u001b[32m     14\u001b[39m             })\n\u001b[32m     16\u001b[39m df = pd.DataFrame(results)\n",
      "\u001b[36mCell\u001b[39m\u001b[36m \u001b[39m\u001b[32mIn[7]\u001b[39m\u001b[32m, line 28\u001b[39m, in \u001b[36mrun_ga\u001b[39m\u001b[34m(crossover, mutation, selection, label)\u001b[39m\n\u001b[32m     26\u001b[39m \u001b[38;5;66;03m# time is measured before and after the algorithm execution\u001b[39;00m\n\u001b[32m     27\u001b[39m start_time = time.time()\n\u001b[32m---> \u001b[39m\u001b[32m28\u001b[39m pop, log = \u001b[43malgorithms\u001b[49m\u001b[43m.\u001b[49m\u001b[43meaSimple\u001b[49m\u001b[43m(\u001b[49m\u001b[43mpop\u001b[49m\u001b[43m,\u001b[49m\u001b[43m \u001b[49m\u001b[43mtoolbox\u001b[49m\u001b[43m,\u001b[49m\u001b[43m \u001b[49m\u001b[43mcxpb\u001b[49m\u001b[43m=\u001b[49m\u001b[43mCXPB\u001b[49m\u001b[43m,\u001b[49m\u001b[43m \u001b[49m\u001b[43mmutpb\u001b[49m\u001b[43m=\u001b[49m\u001b[43mMUTPB\u001b[49m\u001b[43m,\u001b[49m\u001b[43m \u001b[49m\u001b[43mngen\u001b[49m\u001b[43m=\u001b[49m\u001b[43mN_GEN\u001b[49m\u001b[43m,\u001b[49m\u001b[43m \u001b[49m\u001b[43mstats\u001b[49m\u001b[43m=\u001b[49m\u001b[43mstats\u001b[49m\u001b[43m,\u001b[49m\u001b[43m \u001b[49m\u001b[43mhalloffame\u001b[49m\u001b[43m=\u001b[49m\u001b[43mhof\u001b[49m\u001b[43m,\u001b[49m\u001b[43m \u001b[49m\u001b[43mverbose\u001b[49m\u001b[43m=\u001b[49m\u001b[38;5;28;43;01mFalse\u001b[39;49;00m\u001b[43m)\u001b[49m\n\u001b[32m     29\u001b[39m end_time = time.time()\n\u001b[32m     31\u001b[39m \u001b[38;5;66;03m# we extract the ABF (average best fitness) value and the time taken for the execution\u001b[39;00m\n",
      "\u001b[36mFile \u001b[39m\u001b[32m~/miniconda3/envs/1BM120/lib/python3.13/site-packages/deap/algorithms.py:173\u001b[39m, in \u001b[36meaSimple\u001b[39m\u001b[34m(population, toolbox, cxpb, mutpb, ngen, stats, halloffame, verbose)\u001b[39m\n\u001b[32m    171\u001b[39m invalid_ind = [ind \u001b[38;5;28;01mfor\u001b[39;00m ind \u001b[38;5;129;01min\u001b[39;00m offspring \u001b[38;5;28;01mif\u001b[39;00m \u001b[38;5;129;01mnot\u001b[39;00m ind.fitness.valid]\n\u001b[32m    172\u001b[39m fitnesses = toolbox.map(toolbox.evaluate, invalid_ind)\n\u001b[32m--> \u001b[39m\u001b[32m173\u001b[39m \u001b[43m\u001b[49m\u001b[38;5;28;43;01mfor\u001b[39;49;00m\u001b[43m \u001b[49m\u001b[43mind\u001b[49m\u001b[43m,\u001b[49m\u001b[43m \u001b[49m\u001b[43mfit\u001b[49m\u001b[43m \u001b[49m\u001b[38;5;129;43;01min\u001b[39;49;00m\u001b[43m \u001b[49m\u001b[38;5;28;43mzip\u001b[39;49m\u001b[43m(\u001b[49m\u001b[43minvalid_ind\u001b[49m\u001b[43m,\u001b[49m\u001b[43m \u001b[49m\u001b[43mfitnesses\u001b[49m\u001b[43m)\u001b[49m\u001b[43m:\u001b[49m\n\u001b[32m    174\u001b[39m \u001b[43m    \u001b[49m\u001b[43mind\u001b[49m\u001b[43m.\u001b[49m\u001b[43mfitness\u001b[49m\u001b[43m.\u001b[49m\u001b[43mvalues\u001b[49m\u001b[43m \u001b[49m\u001b[43m=\u001b[49m\u001b[43m \u001b[49m\u001b[43mfit\u001b[49m\n\u001b[32m    176\u001b[39m \u001b[38;5;66;03m# Update the hall of fame with the generated individuals\u001b[39;00m\n",
      "\u001b[36mFile \u001b[39m\u001b[32m~/Documents/M.Sc./1BM120-decisiondecisionMakingWithAI/Assignment 1/fitness_module.py:69\u001b[39m, in \u001b[36mfitness\u001b[39m\u001b[34m(sol)\u001b[39m\n\u001b[32m     66\u001b[39m matrix = list_to_array(sol)\n\u001b[32m     68\u001b[39m nr_violations = _get_nr_handcrafted_violations(matrix)\n\u001b[32m---> \u001b[39m\u001b[32m69\u001b[39m alignment_score = \u001b[43m_get_alignment_scores\u001b[49m\u001b[43m(\u001b[49m\u001b[43mmatrix\u001b[49m\u001b[43m)\u001b[49m\n\u001b[32m     70\u001b[39m \u001b[38;5;28;01mreturn\u001b[39;00m (alignment_score - nr_violations,)\n",
      "\u001b[36mFile \u001b[39m\u001b[32m~/Documents/M.Sc./1BM120-decisiondecisionMakingWithAI/Assignment 1/fitness_module.py:100\u001b[39m, in \u001b[36m_get_alignment_scores\u001b[39m\u001b[34m(matrix)\u001b[39m\n\u001b[32m     98\u001b[39m \u001b[38;5;28;01mwith\u001b[39;00m contextlib.redirect_stdout(f), contextlib.redirect_stderr(f):\n\u001b[32m     99\u001b[39m     \u001b[38;5;28;01mtry\u001b[39;00m:\n\u001b[32m--> \u001b[39m\u001b[32m100\u001b[39m         fa = \u001b[43mconformance\u001b[49m\u001b[43m.\u001b[49m\u001b[43mfitness_alignments\u001b[49m\u001b[43m(\u001b[49m\n\u001b[32m    101\u001b[39m \u001b[43m            \u001b[49m\u001b[43mlog\u001b[49m\u001b[43m=\u001b[49m\u001b[43mDATASET\u001b[49m\u001b[43m,\u001b[49m\n\u001b[32m    102\u001b[39m \u001b[43m            \u001b[49m\u001b[43mpetri_net\u001b[49m\u001b[43m=\u001b[49m\u001b[43mnet\u001b[49m\u001b[43m,\u001b[49m\n\u001b[32m    103\u001b[39m \u001b[43m            \u001b[49m\u001b[43minitial_marking\u001b[49m\u001b[43m=\u001b[49m\u001b[43minitial_marking\u001b[49m\u001b[43m,\u001b[49m\n\u001b[32m    104\u001b[39m \u001b[43m            \u001b[49m\u001b[43mfinal_marking\u001b[49m\u001b[43m=\u001b[49m\u001b[43mfinal_marking\u001b[49m\u001b[43m,\u001b[49m\n\u001b[32m    105\u001b[39m \u001b[43m        \u001b[49m\u001b[43m)\u001b[49m\n\u001b[32m    106\u001b[39m     \u001b[38;5;28;01mexcept\u001b[39;00m \u001b[38;5;167;01mException\u001b[39;00m \u001b[38;5;28;01mas\u001b[39;00m e:\n\u001b[32m    107\u001b[39m         \u001b[38;5;28;01mreturn\u001b[39;00m -\u001b[32m1\u001b[39m\n",
      "\u001b[36mFile \u001b[39m\u001b[32m~/miniconda3/envs/1BM120/lib/python3.13/site-packages/pm4py/conformance.py:497\u001b[39m, in \u001b[36mfitness_alignments\u001b[39m\u001b[34m(log, petri_net, initial_marking, final_marking, multi_processing, activity_key, timestamp_key, case_id_key, variant_str)\u001b[39m\n\u001b[32m    490\u001b[39m parameters = get_properties(\n\u001b[32m    491\u001b[39m     log,\n\u001b[32m    492\u001b[39m     activity_key=activity_key,\n\u001b[32m    493\u001b[39m     timestamp_key=timestamp_key,\n\u001b[32m    494\u001b[39m     case_id_key=case_id_key\n\u001b[32m    495\u001b[39m )\n\u001b[32m    496\u001b[39m parameters[\u001b[33m\"\u001b[39m\u001b[33mmultiprocessing\u001b[39m\u001b[33m\"\u001b[39m] = multi_processing\n\u001b[32m--> \u001b[39m\u001b[32m497\u001b[39m result = \u001b[43mreplay_fitness\u001b[49m\u001b[43m.\u001b[49m\u001b[43mapply\u001b[49m\u001b[43m(\u001b[49m\n\u001b[32m    498\u001b[39m \u001b[43m    \u001b[49m\u001b[43mlog\u001b[49m\u001b[43m,\u001b[49m\n\u001b[32m    499\u001b[39m \u001b[43m    \u001b[49m\u001b[43mpetri_net\u001b[49m\u001b[43m,\u001b[49m\n\u001b[32m    500\u001b[39m \u001b[43m    \u001b[49m\u001b[43minitial_marking\u001b[49m\u001b[43m,\u001b[49m\n\u001b[32m    501\u001b[39m \u001b[43m    \u001b[49m\u001b[43mfinal_marking\u001b[49m\u001b[43m,\u001b[49m\n\u001b[32m    502\u001b[39m \u001b[43m    \u001b[49m\u001b[43mvariant\u001b[49m\u001b[43m=\u001b[49m\u001b[43mreplay_fitness\u001b[49m\u001b[43m.\u001b[49m\u001b[43mVariants\u001b[49m\u001b[43m.\u001b[49m\u001b[43mALIGNMENT_BASED\u001b[49m\u001b[43m,\u001b[49m\n\u001b[32m    503\u001b[39m \u001b[43m    \u001b[49m\u001b[43malign_variant\u001b[49m\u001b[43m=\u001b[49m\u001b[43mvariant_str\u001b[49m\u001b[43m,\u001b[49m\n\u001b[32m    504\u001b[39m \u001b[43m    \u001b[49m\u001b[43mparameters\u001b[49m\u001b[43m=\u001b[49m\u001b[43mparameters\u001b[49m\n\u001b[32m    505\u001b[39m \u001b[43m\u001b[49m\u001b[43m)\u001b[49m\n\u001b[32m    507\u001b[39m \u001b[38;5;28;01mreturn\u001b[39;00m result\n",
      "\u001b[36mFile \u001b[39m\u001b[32m~/miniconda3/envs/1BM120/lib/python3.13/site-packages/pm4py/algo/evaluation/replay_fitness/algorithm.py:100\u001b[39m, in \u001b[36mapply\u001b[39m\u001b[34m(log, petri_net, initial_marking, final_marking, parameters, variant, align_variant)\u001b[39m\n\u001b[32m     98\u001b[39m \u001b[38;5;28;01mif\u001b[39;00m align_variant \u001b[38;5;129;01mis\u001b[39;00m \u001b[38;5;28;01mNone\u001b[39;00m:\n\u001b[32m     99\u001b[39m     align_variant = alignments.petri_net.algorithm.DEFAULT_VARIANT\n\u001b[32m--> \u001b[39m\u001b[32m100\u001b[39m \u001b[38;5;28;01mreturn\u001b[39;00m \u001b[43mexec_utils\u001b[49m\u001b[43m.\u001b[49m\u001b[43mget_variant\u001b[49m\u001b[43m(\u001b[49m\u001b[43mvariant\u001b[49m\u001b[43m)\u001b[49m\u001b[43m.\u001b[49m\u001b[43mapply\u001b[49m\u001b[43m(\u001b[49m\u001b[43mlog\u001b[49m\u001b[43m,\u001b[49m\n\u001b[32m    101\u001b[39m \u001b[43m                                             \u001b[49m\u001b[43mpetri_net\u001b[49m\u001b[43m,\u001b[49m\n\u001b[32m    102\u001b[39m \u001b[43m                                             \u001b[49m\u001b[43minitial_marking\u001b[49m\u001b[43m,\u001b[49m\u001b[43m \u001b[49m\u001b[43mfinal_marking\u001b[49m\u001b[43m,\u001b[49m\u001b[43m \u001b[49m\u001b[43malign_variant\u001b[49m\u001b[43m=\u001b[49m\u001b[43malign_variant\u001b[49m\u001b[43m,\u001b[49m\n\u001b[32m    103\u001b[39m \u001b[43m                                             \u001b[49m\u001b[43mparameters\u001b[49m\u001b[43m=\u001b[49m\u001b[43mparameters\u001b[49m\u001b[43m)\u001b[49m\n",
      "\u001b[36mFile \u001b[39m\u001b[32m~/miniconda3/envs/1BM120/lib/python3.13/site-packages/pm4py/algo/evaluation/replay_fitness/variants/alignment_based.py:128\u001b[39m, in \u001b[36mapply\u001b[39m\u001b[34m(log, petri_net, initial_marking, final_marking, align_variant, parameters)\u001b[39m\n\u001b[32m    125\u001b[39m         alignment_result = alignments.apply_multiprocessing(log, petri_net, initial_marking, final_marking, variant=align_variant,\n\u001b[32m    126\u001b[39m                                             parameters=parameters)\n\u001b[32m    127\u001b[39m     \u001b[38;5;28;01melse\u001b[39;00m:\n\u001b[32m--> \u001b[39m\u001b[32m128\u001b[39m         alignment_result = \u001b[43malignments\u001b[49m\u001b[43m.\u001b[49m\u001b[43mapply\u001b[49m\u001b[43m(\u001b[49m\u001b[43mlog\u001b[49m\u001b[43m,\u001b[49m\u001b[43m \u001b[49m\u001b[43mpetri_net\u001b[49m\u001b[43m,\u001b[49m\u001b[43m \u001b[49m\u001b[43minitial_marking\u001b[49m\u001b[43m,\u001b[49m\u001b[43m \u001b[49m\u001b[43mfinal_marking\u001b[49m\u001b[43m,\u001b[49m\u001b[43m \u001b[49m\u001b[43mvariant\u001b[49m\u001b[43m=\u001b[49m\u001b[43malign_variant\u001b[49m\u001b[43m,\u001b[49m\n\u001b[32m    129\u001b[39m \u001b[43m                                            \u001b[49m\u001b[43mparameters\u001b[49m\u001b[43m=\u001b[49m\u001b[43mparameters\u001b[49m\u001b[43m)\u001b[49m\n\u001b[32m    130\u001b[39m \u001b[38;5;28;01mreturn\u001b[39;00m evaluate(alignment_result)\n",
      "\u001b[36mFile \u001b[39m\u001b[32m~/miniconda3/envs/1BM120/lib/python3.13/site-packages/pm4py/algo/conformance/alignments/petri_net/algorithm.py:102\u001b[39m, in \u001b[36mapply\u001b[39m\u001b[34m(obj, petri_net, initial_marking, final_marking, parameters, variant)\u001b[39m\n\u001b[32m    100\u001b[39m     \u001b[38;5;28;01mreturn\u001b[39;00m apply_trace(obj, petri_net, initial_marking, final_marking, parameters=parameters, variant=variant)\n\u001b[32m    101\u001b[39m \u001b[38;5;28;01melse\u001b[39;00m:\n\u001b[32m--> \u001b[39m\u001b[32m102\u001b[39m     \u001b[38;5;28;01mreturn\u001b[39;00m \u001b[43mapply_log\u001b[49m\u001b[43m(\u001b[49m\u001b[43mobj\u001b[49m\u001b[43m,\u001b[49m\u001b[43m \u001b[49m\u001b[43mpetri_net\u001b[49m\u001b[43m,\u001b[49m\u001b[43m \u001b[49m\u001b[43minitial_marking\u001b[49m\u001b[43m,\u001b[49m\n\u001b[32m    103\u001b[39m \u001b[43m                     \u001b[49m\u001b[43mfinal_marking\u001b[49m\u001b[43m,\u001b[49m\u001b[43m \u001b[49m\u001b[43mparameters\u001b[49m\u001b[43m=\u001b[49m\u001b[43mparameters\u001b[49m\u001b[43m,\u001b[49m\u001b[43m \u001b[49m\u001b[43mvariant\u001b[49m\u001b[43m=\u001b[49m\u001b[43mvariant\u001b[49m\u001b[43m)\u001b[49m\n",
      "\u001b[36mFile \u001b[39m\u001b[32m~/miniconda3/envs/1BM120/lib/python3.13/site-packages/pm4py/algo/conformance/alignments/petri_net/algorithm.py:226\u001b[39m, in \u001b[36mapply_log\u001b[39m\u001b[34m(log, petri_net, initial_marking, final_marking, parameters, variant)\u001b[39m\n\u001b[32m    224\u001b[39m this_max_align_time = \u001b[38;5;28mmin\u001b[39m(max_align_time_case, (max_align_time - (time.time() - start_time)) * \u001b[32m0.5\u001b[39m)\n\u001b[32m    225\u001b[39m parameters[Parameters.PARAM_MAX_ALIGN_TIME_TRACE] = this_max_align_time\n\u001b[32m--> \u001b[39m\u001b[32m226\u001b[39m all_alignments.append(\u001b[43mapply_trace\u001b[49m\u001b[43m(\u001b[49m\u001b[43mtrace\u001b[49m\u001b[43m,\u001b[49m\u001b[43m \u001b[49m\u001b[43mpetri_net\u001b[49m\u001b[43m,\u001b[49m\u001b[43m \u001b[49m\u001b[43minitial_marking\u001b[49m\u001b[43m,\u001b[49m\u001b[43m \u001b[49m\u001b[43mfinal_marking\u001b[49m\u001b[43m,\u001b[49m\u001b[43m \u001b[49m\u001b[43mparameters\u001b[49m\u001b[43m=\u001b[49m\u001b[43mcopy\u001b[49m\u001b[43m(\u001b[49m\u001b[43mparameters\u001b[49m\u001b[43m)\u001b[49m\u001b[43m,\u001b[49m\n\u001b[32m    227\u001b[39m \u001b[43m                                  \u001b[49m\u001b[43mvariant\u001b[49m\u001b[43m=\u001b[49m\u001b[43mvariant\u001b[49m\u001b[43m)\u001b[49m)\n\u001b[32m    228\u001b[39m \u001b[38;5;28;01mif\u001b[39;00m progress \u001b[38;5;129;01mis\u001b[39;00m \u001b[38;5;129;01mnot\u001b[39;00m \u001b[38;5;28;01mNone\u001b[39;00m:\n\u001b[32m    229\u001b[39m     progress.update()\n",
      "\u001b[36mFile \u001b[39m\u001b[32m~/miniconda3/envs/1BM120/lib/python3.13/site-packages/pm4py/algo/conformance/alignments/petri_net/algorithm.py:147\u001b[39m, in \u001b[36mapply_trace\u001b[39m\u001b[34m(trace, petri_net, initial_marking, final_marking, parameters, variant)\u001b[39m\n\u001b[32m    143\u001b[39m parameters = copy(parameters)\n\u001b[32m    145\u001b[39m enable_best_worst_cost = exec_utils.get_param_value(Parameters.ENABLE_BEST_WORST_COST, parameters, \u001b[38;5;28;01mTrue\u001b[39;00m)\n\u001b[32m--> \u001b[39m\u001b[32m147\u001b[39m ali = \u001b[43mexec_utils\u001b[49m\u001b[43m.\u001b[49m\u001b[43mget_variant\u001b[49m\u001b[43m(\u001b[49m\u001b[43mvariant\u001b[49m\u001b[43m)\u001b[49m\u001b[43m.\u001b[49m\u001b[43mapply\u001b[49m\u001b[43m(\u001b[49m\u001b[43mtrace\u001b[49m\u001b[43m,\u001b[49m\u001b[43m \u001b[49m\u001b[43mpetri_net\u001b[49m\u001b[43m,\u001b[49m\u001b[43m \u001b[49m\u001b[43minitial_marking\u001b[49m\u001b[43m,\u001b[49m\u001b[43m \u001b[49m\u001b[43mfinal_marking\u001b[49m\u001b[43m,\u001b[49m\n\u001b[32m    148\u001b[39m \u001b[43m                                             \u001b[49m\u001b[43mparameters\u001b[49m\u001b[43m=\u001b[49m\u001b[43mparameters\u001b[49m\u001b[43m)\u001b[49m\n\u001b[32m    150\u001b[39m trace_cost_function = exec_utils.get_param_value(Parameters.PARAM_TRACE_COST_FUNCTION, parameters, [])\n\u001b[32m    151\u001b[39m \u001b[38;5;66;03m# Instead of using the length of the trace, use the sum of the trace cost function\u001b[39;00m\n",
      "\u001b[36mFile \u001b[39m\u001b[32m~/miniconda3/envs/1BM120/lib/python3.13/site-packages/pm4py/algo/conformance/alignments/petri_net/variants/state_equation_a_star.py:173\u001b[39m, in \u001b[36mapply\u001b[39m\u001b[34m(trace, petri_net, initial_marking, final_marking, parameters)\u001b[39m\n\u001b[32m    167\u001b[39m \u001b[38;5;28;01melse\u001b[39;00m:\n\u001b[32m    168\u001b[39m     trace_net, trace_im, trace_fm, parameters[\n\u001b[32m    169\u001b[39m         Parameters.PARAM_TRACE_NET_COSTS] = trace_net_cost_aware_constr_function(trace,\n\u001b[32m    170\u001b[39m                                                                                  trace_cost_function,\n\u001b[32m    171\u001b[39m                                                                                  activity_key=activity_key)\n\u001b[32m--> \u001b[39m\u001b[32m173\u001b[39m alignment = \u001b[43mapply_trace_net\u001b[49m\u001b[43m(\u001b[49m\u001b[43mpetri_net\u001b[49m\u001b[43m,\u001b[49m\u001b[43m \u001b[49m\u001b[43minitial_marking\u001b[49m\u001b[43m,\u001b[49m\u001b[43m \u001b[49m\u001b[43mfinal_marking\u001b[49m\u001b[43m,\u001b[49m\u001b[43m \u001b[49m\u001b[43mtrace_net\u001b[49m\u001b[43m,\u001b[49m\u001b[43m \u001b[49m\u001b[43mtrace_im\u001b[49m\u001b[43m,\u001b[49m\u001b[43m \u001b[49m\u001b[43mtrace_fm\u001b[49m\u001b[43m,\u001b[49m\u001b[43m \u001b[49m\u001b[43mparameters\u001b[49m\u001b[43m)\u001b[49m\n\u001b[32m    175\u001b[39m \u001b[38;5;28;01mreturn\u001b[39;00m alignment\n",
      "\u001b[36mFile \u001b[39m\u001b[32m~/miniconda3/envs/1BM120/lib/python3.13/site-packages/pm4py/algo/conformance/alignments/petri_net/variants/state_equation_a_star.py:377\u001b[39m, in \u001b[36mapply_trace_net\u001b[39m\u001b[34m(petri_net, initial_marking, final_marking, trace_net, trace_im, trace_fm, parameters)\u001b[39m\n\u001b[32m    374\u001b[39m             \u001b[38;5;28;01mif\u001b[39;00m t_trace.label == t_model.label:\n\u001b[32m    375\u001b[39m                 revised_sync[(t_trace, t_model)] = sync_cost_function[t_model]\n\u001b[32m--> \u001b[39m\u001b[32m377\u001b[39m     sync_prod, sync_initial_marking, sync_final_marking, cost_function = \u001b[43mconstruct_cost_aware\u001b[49m\u001b[43m(\u001b[49m\n\u001b[32m    378\u001b[39m \u001b[43m        \u001b[49m\u001b[43mtrace_net\u001b[49m\u001b[43m,\u001b[49m\u001b[43m \u001b[49m\u001b[43mtrace_im\u001b[49m\u001b[43m,\u001b[49m\u001b[43m \u001b[49m\u001b[43mtrace_fm\u001b[49m\u001b[43m,\u001b[49m\u001b[43m \u001b[49m\u001b[43mpetri_net\u001b[49m\u001b[43m,\u001b[49m\u001b[43m \u001b[49m\u001b[43minitial_marking\u001b[49m\u001b[43m,\u001b[49m\u001b[43m \u001b[49m\u001b[43mfinal_marking\u001b[49m\u001b[43m,\u001b[49m\u001b[43m \u001b[49m\u001b[43mutils\u001b[49m\u001b[43m.\u001b[49m\u001b[43mSKIP\u001b[49m\u001b[43m,\u001b[49m\n\u001b[32m    379\u001b[39m \u001b[43m        \u001b[49m\u001b[43mtrace_net_costs\u001b[49m\u001b[43m,\u001b[49m\u001b[43m \u001b[49m\u001b[43mmodel_cost_function\u001b[49m\u001b[43m,\u001b[49m\u001b[43m \u001b[49m\u001b[43mrevised_sync\u001b[49m\u001b[43m)\u001b[49m\n\u001b[32m    381\u001b[39m max_align_time_trace = exec_utils.get_param_value(Parameters.PARAM_MAX_ALIGN_TIME_TRACE, parameters,\n\u001b[32m    382\u001b[39m                                                   sys.maxsize)\n\u001b[32m    384\u001b[39m alignment = apply_sync_prod(sync_prod, sync_initial_marking, sync_final_marking, cost_function,\n\u001b[32m    385\u001b[39m                        utils.SKIP, ret_tuple_as_trans_desc=ret_tuple_as_trans_desc,\n\u001b[32m    386\u001b[39m                        max_align_time_trace=max_align_time_trace)\n",
      "\u001b[36mFile \u001b[39m\u001b[32m~/miniconda3/envs/1BM120/lib/python3.13/site-packages/pm4py/objects/petri_net/utils/synchronous_product.py:107\u001b[39m, in \u001b[36mconstruct_cost_aware\u001b[39m\u001b[34m(pn1, im1, fm1, pn2, im2, fm2, skip, pn1_costs, pn2_costs, sync_costs)\u001b[39m\n\u001b[32m    105\u001b[39m sync_net = PetriNet(\u001b[33m'\u001b[39m\u001b[33msynchronous_product_net of \u001b[39m\u001b[38;5;132;01m%s\u001b[39;00m\u001b[33m and \u001b[39m\u001b[38;5;132;01m%s\u001b[39;00m\u001b[33m'\u001b[39m % (pn1.name, pn2.name))\n\u001b[32m    106\u001b[39m t1_map, p1_map = __copy_into(pn1, sync_net, \u001b[38;5;28;01mTrue\u001b[39;00m, skip)\n\u001b[32m--> \u001b[39m\u001b[32m107\u001b[39m t2_map, p2_map = \u001b[43m__copy_into\u001b[49m\u001b[43m(\u001b[49m\u001b[43mpn2\u001b[49m\u001b[43m,\u001b[49m\u001b[43m \u001b[49m\u001b[43msync_net\u001b[49m\u001b[43m,\u001b[49m\u001b[43m \u001b[49m\u001b[38;5;28;43;01mFalse\u001b[39;49;00m\u001b[43m,\u001b[49m\u001b[43m \u001b[49m\u001b[43mskip\u001b[49m\u001b[43m)\u001b[49m\n\u001b[32m    108\u001b[39m costs = \u001b[38;5;28mdict\u001b[39m()\n\u001b[32m    110\u001b[39m \u001b[38;5;28;01mfor\u001b[39;00m t1 \u001b[38;5;129;01min\u001b[39;00m pn1.transitions:\n",
      "\u001b[36mFile \u001b[39m\u001b[32m~/miniconda3/envs/1BM120/lib/python3.13/site-packages/pm4py/objects/petri_net/utils/synchronous_product.py:162\u001b[39m, in \u001b[36m__copy_into\u001b[39m\u001b[34m(source_net, target_net, upper, skip)\u001b[39m\n\u001b[32m    159\u001b[39m     \u001b[38;5;28;01mif\u001b[39;00m properties.TRACE_NET_TRANS_INDEX \u001b[38;5;129;01min\u001b[39;00m t.properties:\n\u001b[32m    160\u001b[39m         \u001b[38;5;66;03m# 16/02/2021: copy the index property from the transition of the trace net\u001b[39;00m\n\u001b[32m    161\u001b[39m         t_map[t].properties[properties.TRACE_NET_TRANS_INDEX] = t.properties[properties.TRACE_NET_TRANS_INDEX]\n\u001b[32m--> \u001b[39m\u001b[32m162\u001b[39m     \u001b[43mtarget_net\u001b[49m\u001b[43m.\u001b[49m\u001b[43mtransitions\u001b[49m.add(t_map[t])\n\u001b[32m    164\u001b[39m \u001b[38;5;28;01mfor\u001b[39;00m p \u001b[38;5;129;01min\u001b[39;00m source_net.places:\n\u001b[32m    165\u001b[39m     name = (p.name, skip) \u001b[38;5;28;01mif\u001b[39;00m upper \u001b[38;5;28;01melse\u001b[39;00m (skip, p.name)\n",
      "\u001b[36mFile \u001b[39m\u001b[32m~/miniconda3/envs/1BM120/lib/python3.13/site-packages/pm4py/objects/petri_net/obj.py:279\u001b[39m, in \u001b[36mPetriNet.__get_transitions\u001b[39m\u001b[34m(self)\u001b[39m\n\u001b[32m    276\u001b[39m \u001b[38;5;28;01mdef\u001b[39;00m\u001b[38;5;250m \u001b[39m\u001b[34m__get_places\u001b[39m(\u001b[38;5;28mself\u001b[39m) -> Collection[Place]:\n\u001b[32m    277\u001b[39m     \u001b[38;5;28;01mreturn\u001b[39;00m \u001b[38;5;28mself\u001b[39m.__places\n\u001b[32m--> \u001b[39m\u001b[32m279\u001b[39m \u001b[38;5;28;01mdef\u001b[39;00m\u001b[38;5;250m \u001b[39m\u001b[34m__get_transitions\u001b[39m(\u001b[38;5;28mself\u001b[39m) -> Collection[Transition]:\n\u001b[32m    280\u001b[39m     \u001b[38;5;28;01mreturn\u001b[39;00m \u001b[38;5;28mself\u001b[39m.__transitions\n\u001b[32m    282\u001b[39m \u001b[38;5;28;01mdef\u001b[39;00m\u001b[38;5;250m \u001b[39m\u001b[34m__get_arcs\u001b[39m(\u001b[38;5;28mself\u001b[39m) -> Collection[Arc]:\n",
      "\u001b[31mKeyboardInterrupt\u001b[39m: "
     ]
    }
   ],
   "source": [
    "results = []\n",
    "\n",
    "for cx_name, cx in crossovers.items():\n",
    "    for mut_name, mut in mutations.items():\n",
    "        for sel_name, sel in selections.items():\n",
    "            label = f\"{cx_name}, {mut_name}, {sel_name}\"\n",
    "            abf, time_taken, log = run_ga(cx, mut, sel, label)\n",
    "            results.append({\n",
    "                \"Crossover\": cx_name,\n",
    "                \"Mutation\": mut_name,\n",
    "                \"Selection\": sel_name,\n",
    "                \"ABF\": abf,\n",
    "                \"Time (Seconds)\": time_taken\n",
    "            })\n",
    "\n",
    "df = pd.DataFrame(results)\n",
    "df_sorted = df.sort_values(by=[\"ABF\", \"Time (Seconds)\"], ascending=[False, True])\n",
    "print(df_sorted)"
   ]
  }
 ],
 "metadata": {
  "kernelspec": {
   "display_name": "1BM120",
   "language": "python",
   "name": "python3"
  },
  "language_info": {
   "codemirror_mode": {
    "name": "ipython",
    "version": 3
   },
   "file_extension": ".py",
   "mimetype": "text/x-python",
   "name": "python",
   "nbconvert_exporter": "python",
   "pygments_lexer": "ipython3",
   "version": "3.13.2"
  }
 },
 "nbformat": 4,
 "nbformat_minor": 5
}
